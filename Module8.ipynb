{
 "cells": [
  {
   "cell_type": "markdown",
   "metadata": {},
   "source": [
    "# Elham Bahrami\n",
    "## Housing Maintenance Code Violations\n",
    "### 10/27/2019"
   ]
  },
  {
   "cell_type": "markdown",
   "metadata": {},
   "source": [
    "### I am going to ingest my data set(Housing Maintenance Code Violation), to see if I can improve it make it ready to be analyzed."
   ]
  },
  {
   "cell_type": "code",
   "execution_count": 28,
   "metadata": {},
   "outputs": [],
   "source": [
    "#Since the data is taken from NYC Data Open Portal I take 5000 rows of it\n",
    "import pandas as pd\n",
    "dfm = pd.read_csv(\"https://data.cityofnewyork.us/resource/wvxf-dwi5.csv?$limit=5000\")"
   ]
  },
  {
   "cell_type": "code",
   "execution_count": 29,
   "metadata": {},
   "outputs": [
    {
     "data": {
      "text/html": [
       "<div>\n",
       "<style scoped>\n",
       "    .dataframe tbody tr th:only-of-type {\n",
       "        vertical-align: middle;\n",
       "    }\n",
       "\n",
       "    .dataframe tbody tr th {\n",
       "        vertical-align: top;\n",
       "    }\n",
       "\n",
       "    .dataframe thead th {\n",
       "        text-align: right;\n",
       "    }\n",
       "</style>\n",
       "<table border=\"1\" class=\"dataframe\">\n",
       "  <thead>\n",
       "    <tr style=\"text-align: right;\">\n",
       "      <th></th>\n",
       "      <th>violationid</th>\n",
       "      <th>buildingid</th>\n",
       "      <th>registrationid</th>\n",
       "      <th>boroid</th>\n",
       "      <th>boro</th>\n",
       "      <th>housenumber</th>\n",
       "      <th>lowhousenumber</th>\n",
       "      <th>highhousenumber</th>\n",
       "      <th>streetname</th>\n",
       "      <th>streetcode</th>\n",
       "      <th>...</th>\n",
       "      <th>novtype</th>\n",
       "      <th>violationstatus</th>\n",
       "      <th>latitude</th>\n",
       "      <th>longitude</th>\n",
       "      <th>communityboard</th>\n",
       "      <th>councildistrict</th>\n",
       "      <th>censustract</th>\n",
       "      <th>bin</th>\n",
       "      <th>bbl</th>\n",
       "      <th>nta</th>\n",
       "    </tr>\n",
       "  </thead>\n",
       "  <tbody>\n",
       "    <tr>\n",
       "      <th>0</th>\n",
       "      <td>10000009</td>\n",
       "      <td>265980</td>\n",
       "      <td>301467</td>\n",
       "      <td>3</td>\n",
       "      <td>BROOKLYN</td>\n",
       "      <td>355</td>\n",
       "      <td>355</td>\n",
       "      <td>355</td>\n",
       "      <td>EAST 48 STREET</td>\n",
       "      <td>36930</td>\n",
       "      <td>...</td>\n",
       "      <td>Original</td>\n",
       "      <td>Close</td>\n",
       "      <td>40.653217</td>\n",
       "      <td>-73.932480</td>\n",
       "      <td>17</td>\n",
       "      <td>41</td>\n",
       "      <td>870</td>\n",
       "      <td>3102071.0</td>\n",
       "      <td>3.046740e+09</td>\n",
       "      <td>East Flatbush-Farragut</td>\n",
       "    </tr>\n",
       "    <tr>\n",
       "      <th>1</th>\n",
       "      <td>10000011</td>\n",
       "      <td>73852</td>\n",
       "      <td>226626</td>\n",
       "      <td>2</td>\n",
       "      <td>BRONX</td>\n",
       "      <td>1123</td>\n",
       "      <td>1123</td>\n",
       "      <td>1123</td>\n",
       "      <td>EAST TREMONT AVENUE</td>\n",
       "      <td>29620</td>\n",
       "      <td>...</td>\n",
       "      <td>Original</td>\n",
       "      <td>Close</td>\n",
       "      <td>40.839954</td>\n",
       "      <td>-73.876599</td>\n",
       "      <td>6</td>\n",
       "      <td>15</td>\n",
       "      <td>220</td>\n",
       "      <td>2042428.0</td>\n",
       "      <td>2.040040e+09</td>\n",
       "      <td>East Tremont</td>\n",
       "    </tr>\n",
       "    <tr>\n",
       "      <th>2</th>\n",
       "      <td>10000012</td>\n",
       "      <td>80102</td>\n",
       "      <td>211704</td>\n",
       "      <td>2</td>\n",
       "      <td>BRONX</td>\n",
       "      <td>751</td>\n",
       "      <td>751</td>\n",
       "      <td>751</td>\n",
       "      <td>GERARD AVENUE</td>\n",
       "      <td>35020</td>\n",
       "      <td>...</td>\n",
       "      <td>Original</td>\n",
       "      <td>Close</td>\n",
       "      <td>40.824692</td>\n",
       "      <td>-73.926605</td>\n",
       "      <td>4</td>\n",
       "      <td>8</td>\n",
       "      <td>63</td>\n",
       "      <td>2002971.0</td>\n",
       "      <td>2.024820e+09</td>\n",
       "      <td>West Concourse</td>\n",
       "    </tr>\n",
       "    <tr>\n",
       "      <th>3</th>\n",
       "      <td>10000014</td>\n",
       "      <td>268639</td>\n",
       "      <td>350942</td>\n",
       "      <td>3</td>\n",
       "      <td>BROOKLYN</td>\n",
       "      <td>54</td>\n",
       "      <td>54</td>\n",
       "      <td>54</td>\n",
       "      <td>EAST 52 STREET</td>\n",
       "      <td>37080</td>\n",
       "      <td>...</td>\n",
       "      <td>Original</td>\n",
       "      <td>Close</td>\n",
       "      <td>40.659731</td>\n",
       "      <td>-73.929295</td>\n",
       "      <td>17</td>\n",
       "      <td>41</td>\n",
       "      <td>878</td>\n",
       "      <td>3099672.0</td>\n",
       "      <td>3.046050e+09</td>\n",
       "      <td>Prospect Lefferts Gardens-Wingate</td>\n",
       "    </tr>\n",
       "    <tr>\n",
       "      <th>4</th>\n",
       "      <td>10000017</td>\n",
       "      <td>268167</td>\n",
       "      <td>300713</td>\n",
       "      <td>3</td>\n",
       "      <td>BROOKLYN</td>\n",
       "      <td>146</td>\n",
       "      <td>146</td>\n",
       "      <td>146</td>\n",
       "      <td>EAST 52 STREET</td>\n",
       "      <td>37080</td>\n",
       "      <td>...</td>\n",
       "      <td>Original</td>\n",
       "      <td>Close</td>\n",
       "      <td>40.657615</td>\n",
       "      <td>-73.929067</td>\n",
       "      <td>17</td>\n",
       "      <td>41</td>\n",
       "      <td>878</td>\n",
       "      <td>3100214.0</td>\n",
       "      <td>3.046210e+09</td>\n",
       "      <td>Prospect Lefferts Gardens-Wingate</td>\n",
       "    </tr>\n",
       "  </tbody>\n",
       "</table>\n",
       "<p>5 rows × 40 columns</p>\n",
       "</div>"
      ],
      "text/plain": [
       "   violationid  buildingid  registrationid  boroid      boro housenumber  \\\n",
       "0     10000009      265980          301467       3  BROOKLYN         355   \n",
       "1     10000011       73852          226626       2     BRONX        1123   \n",
       "2     10000012       80102          211704       2     BRONX         751   \n",
       "3     10000014      268639          350942       3  BROOKLYN          54   \n",
       "4     10000017      268167          300713       3  BROOKLYN         146   \n",
       "\n",
       "  lowhousenumber highhousenumber           streetname  streetcode  \\\n",
       "0            355             355       EAST 48 STREET       36930   \n",
       "1           1123            1123  EAST TREMONT AVENUE       29620   \n",
       "2            751             751        GERARD AVENUE       35020   \n",
       "3             54              54       EAST 52 STREET       37080   \n",
       "4            146             146       EAST 52 STREET       37080   \n",
       "\n",
       "                 ...                   novtype violationstatus   latitude  \\\n",
       "0                ...                  Original           Close  40.653217   \n",
       "1                ...                  Original           Close  40.839954   \n",
       "2                ...                  Original           Close  40.824692   \n",
       "3                ...                  Original           Close  40.659731   \n",
       "4                ...                  Original           Close  40.657615   \n",
       "\n",
       "   longitude  communityboard councildistrict censustract        bin  \\\n",
       "0 -73.932480              17              41         870  3102071.0   \n",
       "1 -73.876599               6              15         220  2042428.0   \n",
       "2 -73.926605               4               8          63  2002971.0   \n",
       "3 -73.929295              17              41         878  3099672.0   \n",
       "4 -73.929067              17              41         878  3100214.0   \n",
       "\n",
       "            bbl                                nta  \n",
       "0  3.046740e+09             East Flatbush-Farragut  \n",
       "1  2.040040e+09                       East Tremont  \n",
       "2  2.024820e+09                     West Concourse  \n",
       "3  3.046050e+09  Prospect Lefferts Gardens-Wingate  \n",
       "4  3.046210e+09  Prospect Lefferts Gardens-Wingate  \n",
       "\n",
       "[5 rows x 40 columns]"
      ]
     },
     "execution_count": 29,
     "metadata": {},
     "output_type": "execute_result"
    }
   ],
   "source": [
    "#Seeing five rwos of the data set\n",
    "dfm.head()"
   ]
  },
  {
   "cell_type": "code",
   "execution_count": 30,
   "metadata": {},
   "outputs": [
    {
     "data": {
      "text/plain": [
       "Index(['violationid', 'buildingid', 'registrationid', 'boroid', 'boro',\n",
       "       'housenumber', 'lowhousenumber', 'highhousenumber', 'streetname',\n",
       "       'streetcode', 'zip', 'apartment', 'story', 'block', 'lot', 'class',\n",
       "       'inspectiondate', 'approveddate', 'originalcertifybydate',\n",
       "       'originalcorrectbydate', 'newcertifybydate', 'newcorrectbydate',\n",
       "       'certifieddate', 'ordernumber', 'novid', 'novdescription',\n",
       "       'novissueddate', 'currentstatusid', 'currentstatus',\n",
       "       'currentstatusdate', 'novtype', 'violationstatus', 'latitude',\n",
       "       'longitude', 'communityboard', 'councildistrict', 'censustract', 'bin',\n",
       "       'bbl', 'nta'],\n",
       "      dtype='object')"
      ]
     },
     "execution_count": 30,
     "metadata": {},
     "output_type": "execute_result"
    }
   ],
   "source": [
    "#What columns are there in the data set\n",
    "dfm.columns"
   ]
  },
  {
   "cell_type": "code",
   "execution_count": 31,
   "metadata": {},
   "outputs": [
    {
     "name": "stdout",
     "output_type": "stream",
     "text": [
      "<class 'pandas.core.frame.DataFrame'>\n",
      "RangeIndex: 5000 entries, 0 to 4999\n",
      "Data columns (total 40 columns):\n",
      "violationid              5000 non-null int64\n",
      "buildingid               5000 non-null int64\n",
      "registrationid           5000 non-null int64\n",
      "boroid                   5000 non-null int64\n",
      "boro                     5000 non-null object\n",
      "housenumber              5000 non-null object\n",
      "lowhousenumber           4997 non-null object\n",
      "highhousenumber          5000 non-null object\n",
      "streetname               5000 non-null object\n",
      "streetcode               5000 non-null int64\n",
      "zip                      5000 non-null int64\n",
      "apartment                4169 non-null object\n",
      "story                    4838 non-null object\n",
      "block                    5000 non-null int64\n",
      "lot                      5000 non-null int64\n",
      "class                    5000 non-null object\n",
      "inspectiondate           5000 non-null object\n",
      "approveddate             5000 non-null object\n",
      "originalcertifybydate    4944 non-null object\n",
      "originalcorrectbydate    4944 non-null object\n",
      "newcertifybydate         57 non-null object\n",
      "newcorrectbydate         57 non-null object\n",
      "certifieddate            654 non-null object\n",
      "ordernumber              5000 non-null int64\n",
      "novid                    5000 non-null int64\n",
      "novdescription           5000 non-null object\n",
      "novissueddate            4944 non-null object\n",
      "currentstatusid          5000 non-null int64\n",
      "currentstatus            5000 non-null object\n",
      "currentstatusdate        5000 non-null object\n",
      "novtype                  4944 non-null object\n",
      "violationstatus          5000 non-null object\n",
      "latitude                 5000 non-null float64\n",
      "longitude                5000 non-null float64\n",
      "communityboard           5000 non-null int64\n",
      "councildistrict          5000 non-null int64\n",
      "censustract              5000 non-null int64\n",
      "bin                      4998 non-null float64\n",
      "bbl                      4998 non-null float64\n",
      "nta                      5000 non-null object\n",
      "dtypes: float64(4), int64(14), object(22)\n",
      "memory usage: 1.5+ MB\n"
     ]
    }
   ],
   "source": [
    "#what type of data is there for each column\n",
    "dfm.info()"
   ]
  },
  {
   "cell_type": "code",
   "execution_count": 32,
   "metadata": {},
   "outputs": [],
   "source": [
    "# Since column boro may not clear what it is, I need to change the name to borough\n",
    "dfm = dfm.rename(columns={\"boro\":\"borough\"})"
   ]
  },
  {
   "cell_type": "code",
   "execution_count": 33,
   "metadata": {},
   "outputs": [
    {
     "data": {
      "text/plain": [
       "array(['BROOKLYN', 'BRONX', 'MANHATTAN', 'QUEENS', 'STATEN ISLAND'],\n",
       "      dtype=object)"
      ]
     },
     "execution_count": 33,
     "metadata": {},
     "output_type": "execute_result"
    }
   ],
   "source": [
    "# Check if I have five values in borough column\n",
    "dfm[\"borough\"].unique()"
   ]
  },
  {
   "cell_type": "code",
   "execution_count": 34,
   "metadata": {},
   "outputs": [
    {
     "data": {
      "text/plain": [
       "violationid                 0\n",
       "buildingid                  0\n",
       "registrationid              0\n",
       "boroid                      0\n",
       "borough                     0\n",
       "housenumber                 0\n",
       "lowhousenumber              3\n",
       "highhousenumber             0\n",
       "streetname                  0\n",
       "streetcode                  0\n",
       "zip                         0\n",
       "apartment                 831\n",
       "story                     162\n",
       "block                       0\n",
       "lot                         0\n",
       "class                       0\n",
       "inspectiondate              0\n",
       "approveddate                0\n",
       "originalcertifybydate      56\n",
       "originalcorrectbydate      56\n",
       "newcertifybydate         4943\n",
       "newcorrectbydate         4943\n",
       "certifieddate            4346\n",
       "ordernumber                 0\n",
       "novid                       0\n",
       "novdescription              0\n",
       "novissueddate              56\n",
       "currentstatusid             0\n",
       "currentstatus               0\n",
       "currentstatusdate           0\n",
       "novtype                    56\n",
       "violationstatus             0\n",
       "latitude                    0\n",
       "longitude                   0\n",
       "communityboard              0\n",
       "councildistrict             0\n",
       "censustract                 0\n",
       "bin                         2\n",
       "bbl                         2\n",
       "nta                         0\n",
       "dtype: int64"
      ]
     },
     "execution_count": 34,
     "metadata": {},
     "output_type": "execute_result"
    }
   ],
   "source": [
    "# How many null values are there\n",
    "dfm.isnull().sum()"
   ]
  },
  {
   "cell_type": "markdown",
   "metadata": {},
   "source": [
    "### Since three columns: newcertifybydate, newcorrectbydate, certifieddate have a lot of missing values, it is better to remove them."
   ]
  },
  {
   "cell_type": "code",
   "execution_count": 35,
   "metadata": {},
   "outputs": [],
   "source": [
    "# Removing columns with a lot of missing values\n",
    "dfm.drop(['newcertifybydate', 'newcorrectbydate', 'certifieddate'], axis=1, inplace=True)"
   ]
  },
  {
   "cell_type": "markdown",
   "metadata": {},
   "source": [
    "### Still there some null value in the data set which is not that many compare to the size(5000 rows), so I am going to drop them and it will not affect the whole data set and analysis. "
   ]
  },
  {
   "cell_type": "code",
   "execution_count": 37,
   "metadata": {},
   "outputs": [],
   "source": [
    "dfm = dfm.dropna()"
   ]
  },
  {
   "cell_type": "code",
   "execution_count": 39,
   "metadata": {},
   "outputs": [],
   "source": [
    "# Changing type of values in zip to object that is better than numeric for analysis. \n",
    "dfm['zip'] = dfm['zip'].astype(str)"
   ]
  },
  {
   "cell_type": "code",
   "execution_count": 40,
   "metadata": {},
   "outputs": [
    {
     "name": "stdout",
     "output_type": "stream",
     "text": [
      "<class 'pandas.core.frame.DataFrame'>\n",
      "Int64Index: 4150 entries, 2 to 4997\n",
      "Data columns (total 37 columns):\n",
      "violationid              4150 non-null int64\n",
      "buildingid               4150 non-null int64\n",
      "registrationid           4150 non-null int64\n",
      "boroid                   4150 non-null int64\n",
      "borough                  4150 non-null object\n",
      "housenumber              4150 non-null object\n",
      "lowhousenumber           4150 non-null object\n",
      "highhousenumber          4150 non-null object\n",
      "streetname               4150 non-null object\n",
      "streetcode               4150 non-null int64\n",
      "zip                      4150 non-null object\n",
      "apartment                4150 non-null object\n",
      "story                    4150 non-null object\n",
      "block                    4150 non-null int64\n",
      "lot                      4150 non-null int64\n",
      "class                    4150 non-null object\n",
      "inspectiondate           4150 non-null object\n",
      "approveddate             4150 non-null object\n",
      "originalcertifybydate    4150 non-null object\n",
      "originalcorrectbydate    4150 non-null object\n",
      "ordernumber              4150 non-null int64\n",
      "novid                    4150 non-null int64\n",
      "novdescription           4150 non-null object\n",
      "novissueddate            4150 non-null object\n",
      "currentstatusid          4150 non-null int64\n",
      "currentstatus            4150 non-null object\n",
      "currentstatusdate        4150 non-null object\n",
      "novtype                  4150 non-null object\n",
      "violationstatus          4150 non-null object\n",
      "latitude                 4150 non-null float64\n",
      "longitude                4150 non-null float64\n",
      "communityboard           4150 non-null int64\n",
      "councildistrict          4150 non-null int64\n",
      "censustract              4150 non-null int64\n",
      "bin                      4150 non-null float64\n",
      "bbl                      4150 non-null float64\n",
      "nta                      4150 non-null object\n",
      "dtypes: float64(4), int64(13), object(20)\n",
      "memory usage: 1.2+ MB\n"
     ]
    }
   ],
   "source": [
    "dfm.info()"
   ]
  },
  {
   "cell_type": "markdown",
   "metadata": {},
   "source": [
    "### I need to convert the column that have date to datetime type."
   ]
  },
  {
   "cell_type": "code",
   "execution_count": 53,
   "metadata": {},
   "outputs": [],
   "source": [
    "dfm[['currentstatusdate','originalcertifybydate', \n",
    "     'originalcorrectbydate','novissueddate', 'inspectiondate', 'approveddate']]= dfm[['currentstatusdate','originalcertifybydate', \n",
    "                                                     'originalcorrectbydate','novissueddate','inspectiondate','approveddate']].apply(pd.to_datetime, format='%Y-%m-%d %H:%M:%S.%f')"
   ]
  },
  {
   "cell_type": "code",
   "execution_count": null,
   "metadata": {},
   "outputs": [],
   "source": []
  }
 ],
 "metadata": {
  "kernelspec": {
   "display_name": "Python 3",
   "language": "python",
   "name": "python3"
  },
  "language_info": {
   "codemirror_mode": {
    "name": "ipython",
    "version": 3
   },
   "file_extension": ".py",
   "mimetype": "text/x-python",
   "name": "python",
   "nbconvert_exporter": "python",
   "pygments_lexer": "ipython3",
   "version": "3.7.2"
  }
 },
 "nbformat": 4,
 "nbformat_minor": 2
}
